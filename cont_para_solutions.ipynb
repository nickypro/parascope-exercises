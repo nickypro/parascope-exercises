{
 "cells": [
  {
   "cell_type": "markdown",
   "id": "2ba4ac4e-fa3f-445e-bfb4-6647ba0b22f4",
   "metadata": {},
   "source": [
    "# %% [markdown]\n",
    "\n",
    " ## Continuation ParaScope.\n"
   ]
  },
  {
   "cell_type": "markdown",
   "id": "64ca8724-b2ef-4a60-8c5c-5bef6150fbe2",
   "metadata": {},
   "source": [
    "# %% [markdown]\n",
    "\n",
    " Install necessary packages for transformer models and evaluation metrics.\n",
    " Just run and continue unless there are errors.\n",
    " you may need to install some packages:"
   ]
  },
  {
   "cell_type": "code",
   "execution_count": null,
   "id": "0bbd23e1-65d8-4164-8712-931229ff6ba4",
   "metadata": {},
   "outputs": [
    {
     "data": {
      "text/plain": [
       "<torch.autograd.grad_mode.set_grad_enabled at 0x7f2ab9789b90>"
      ]
     },
     "execution_count": 1,
     "metadata": {},
     "output_type": "execute_result"
    }
   ],
   "source": [
    "# %%\n",
    "\n",
    "# !pip install -q transformer-lens plotly pandas matplotlib seaborn numpy scikit-learn datasets transformers sentence-transformers\n",
    "\n",
    "from transformer_lens import HookedTransformer\n",
    "import torch\n",
    "import torch.nn as nn\n",
    "import einops\n",
    "from typing import Callable\n",
    "from jaxtyping import Float\n",
    "from torch import Tensor\n",
    "from transformer_lens.hook_points import HookPoint\n",
    "from transformer_lens import HookedTransformerConfig\n",
    "torch.set_grad_enabled(False)"
   ]
  },
  {
   "cell_type": "markdown",
   "id": "8f23c55d-b45e-4883-a24e-d0cfda31a96a",
   "metadata": {},
   "source": [
    "# %% [markdown]\n",
    "\n",
    " # Continuation ParaScope Implementation\n",
    "\n",
    " ParaScope (Paragraph Scope) is a method for extracting paragraph-level information from language model residual streams.\n",
    " The core idea is to decode what a language model is \"planning\" to write in an upcoming paragraph by analyzing the\n",
    " residual stream activations at transition points (like \"\\n\\n\" tokens).\n",
    "\n",
    " ![ParaScope Illustration](https://39669.cdn.cke-cs.com/rQvD3VnunXZu34m86e5f/images/7421b220f111e4736b9a8d5a7bae0d0267d1b321fbda5461.png)\n",
    "\n",
    " **Continuation ParaScope** is the simplest approach:\n",
    " 1. Extract residual stream activations at a \"\\n\\n\" token from some original text\n",
    " 2. Create a minimal prompt with just \"<bos>\\n\\n\"\n",
    " 3. Replace the residual activations of the \"\\n\\n\" token with the saved activations\n",
    " 4. Generate text to see what the model \"planned\" to write\n",
    "\n",
    " This tests whether language models encode information about upcoming paragraphs in their residual streams,\n",
    " providing evidence for either explicit or implicit planning in language generation.\n",
    "\n",
    "\n",
    " ![Continuation Parascope Illustration](https://39669.cdn.cke-cs.com/rQvD3VnunXZu34m86e5f/images/bb0725d6fb774228484beadd06dd8af5185f7c7d539b7090.png)\n"
   ]
  },
  {
   "cell_type": "markdown",
   "id": "9ed585cd-8b59-43e7-b918-a8e0436bbd10",
   "metadata": {},
   "source": [
    "# %% [markdown]\n",
    "\n",
    " ## Setup and Installation\n",
    "\n",
    " We start by loading the model and tokenizer."
   ]
  },
  {
   "cell_type": "code",
   "execution_count": null,
   "id": "002c629c-1ee9-4b93-a938-ae7fa0aa7b72",
   "metadata": {},
   "outputs": [
    {
     "data": {
      "application/vnd.jupyter.widget-view+json": {
       "model_id": "5a592f68c2a64c55917b3ef156bfceca",
       "version_major": 2,
       "version_minor": 0
      },
      "text/plain": [
       "Loading checkpoint shards:   0%|          | 0/2 [00:00<?, ?it/s]"
      ]
     },
     "metadata": {},
     "output_type": "display_data"
    },
    {
     "name": "stderr",
     "output_type": "stream",
     "text": [
      "WARNING:root:You are not using LayerNorm, so the writing weights can't be centered! Skipping\n"
     ]
    },
    {
     "name": "stdout",
     "output_type": "stream",
     "text": [
      "Loaded pretrained model meta-llama/Llama-3.2-3B-Instruct into HookedTransformer\n"
     ]
    }
   ],
   "source": [
    "# %%\n",
    "\n",
    "model = HookedTransformer.from_pretrained(\"meta-llama/Llama-3.2-3B-Instruct\")\n",
    "\n",
    "# print(\"Available hook points:\")\n",
    "# for name in list(model.hook_dict.keys())[:28]:  # Show first few hook points\n",
    "#     print(name)"
   ]
  },
  {
   "cell_type": "markdown",
   "id": "17522a9a-825a-4bba-977a-9a64b14410c1",
   "metadata": {},
   "source": [
    "# %% [markdown]\n",
    "\n",
    " ### Prompting and relevant scaffolding\n",
    " Some functions to help with prompting"
   ]
  },
  {
   "cell_type": "code",
   "execution_count": null,
   "id": "92cc166b-6ebf-4ade-8f76-3ff9767bcee0",
   "metadata": {},
   "outputs": [],
   "source": [
    "# %%\n",
    "\n",
    "def format_prompt(prompt: str) -> torch.Tensor:\n",
    "    \"\"\"\n",
    "    Create tokenized chat using the model's tokenizer with chat template.\n",
    "    \"\"\"\n",
    "    messages = [\n",
    "        {\"role\": \"user\", \"content\": prompt}\n",
    "    ]\n",
    "\n",
    "    # Apply chat template and tokenize\n",
    "    return model.tokenizer.apply_chat_template(\n",
    "        messages,\n",
    "        tokenize=False,\n",
    "        add_generation_prompt=True,\n",
    "    )\n",
    "\n",
    "def two_topics_prompt(topic1: str, topic2: str) -> torch.Tensor:\n",
    "    prompt = f\"\"\"\n",
    "Please write two paragraphs, each of length 2 sentences. The first should describe {topic1}, and the second should describe {topic2}. Do not say explicitly name the topic, and do not say anything else.\n",
    "\"\"\"\n",
    "    return format_prompt(prompt)\n",
    "\n",
    "def extract_second_paragraph(text: str) -> str:\n",
    "    return text.split(\"\\n\\n\")[1]"
   ]
  },
  {
   "cell_type": "markdown",
   "id": "f78020fe-5529-4488-bcd5-980154e132c5",
   "metadata": {},
   "source": [
    "# %% [markdown]\n",
    "\n",
    " ### Baseline Generation\n",
    " Try running the model with just the prompt to get a baseline."
   ]
  },
  {
   "cell_type": "code",
   "execution_count": null,
   "id": "e4fc04f5-bd99-4f31-ae49-4688c50fb195",
   "metadata": {},
   "outputs": [
    {
     "data": {
      "application/vnd.jupyter.widget-view+json": {
       "model_id": "e66904c8077c45cfabd4336ef851d238",
       "version_major": 2,
       "version_minor": 0
      },
      "text/plain": [
       "  0%|          | 0/200 [00:00<?, ?it/s]"
      ]
     },
     "metadata": {},
     "output_type": "display_data"
    },
    {
     "name": "stdout",
     "output_type": "stream",
     "text": [
      "['<|begin_of_text|>', '<|start_header_id|>', 'system', '<|end_header_id|>', '\\n\\n', 'Cut', 'ting', ' Knowledge', ' Date', ':', ' December', ' ', '202', '3', '\\n', 'Today', ' Date', ':', ' ', '15', ' Jul', ' ', '202', '5', '\\n\\n', '<|eot_id|>', '<|start_header_id|>', 'user', '<|end_header_id|>', '\\n\\n', 'Please', ' write', ' two', ' paragraphs', ',', ' each', ' of', ' length', ' ', '2', ' sentences', '.', ' The', ' first', ' should', ' describe', ' monster', ' trucks', ',', ' and', ' the', ' second', ' should', ' describe', ' par', 'acet', 'am', 'ol', '.', ' Do', ' not', ' say', ' explicitly', ' name', ' the', ' topic', ',', ' and', ' do', ' not', ' say', ' anything', ' else', '.', '<|eot_id|>', '<|start_header_id|>', 'assistant', '<|end_header_id|>', '\\n\\n']\n",
      "['G', 'iant', ' vehicles', ' with', ' oversized', ' tires', ' and', ' powerful', ' engines', ' dominate', ' the', ' landscape', ',', ' crushing', ' cars', ' and', ' other', ' obstacles', ' with', ' ease', '.', ' These', ' massive', ' machines', ' are', ' often', ' driven', ' by', ' skilled', ' drivers', ' who', ' navigate', ' tre', 'acher', 'ous', ' courses', ' and', ' perform', ' death', '-def', 'ying', ' st', 'unts', '.\\n\\n', 'A', ' widely', ' used', ' over', '-the', '-counter', ' medication', ',', ' this', ' pain', ' relie', 'ver', ' is', ' commonly', ' taken', ' to', ' alleviate', ' headaches', ',', ' fever', ',', ' and', ' other', ' minor', ' ailments', '.', ' Its', ' active', ' ingredient', ' is', ' often', ' found', ' in', ' various', ' forms', ',', ' including', ' tablets', ',', ' capsules', ',', ' and', ' liquid', ' solutions', ',', ' making', ' it', ' accessible', ' to', ' people', ' of', ' all', ' ages', '.', '<|eot_id|>']\n",
      "Index of first newline: 43 (['.\\n\\n'])\n",
      "Giant vehicles with oversized tires and powerful engines dominate the landscape, crushing cars and other obstacles with ease. These massive machines are often driven by skilled drivers who navigate treacherous courses and perform death-defying stunts.\n",
      "\n",
      "\n",
      "A widely used over-the-counter medication, this pain reliever is commonly taken to alleviate headaches, fever, and other minor ailments. Its active ingredient is often found in various forms, including tablets, capsules, and liquid solutions, making it accessible to people of all ages.<|eot_id|>\n"
     ]
    }
   ],
   "source": [
    "# %%\n",
    "\n",
    "prompt = two_topics_prompt(\"monster trucks\", \"paracetamol\")\n",
    "prompt_tokens = model.to_tokens(prompt)[:, 1:] # remove double <bos>\n",
    "\n",
    "# Generate context based on the string\n",
    "baseline_generated_tokens = model.generate(prompt_tokens, max_new_tokens=200, do_sample=True, temperature=0.3)\n",
    "output_tokens = baseline_generated_tokens[:, len(prompt_tokens[0]):]\n",
    "output_str_tokens = model.to_str_tokens(output_tokens)\n",
    "print(model.to_str_tokens(prompt_tokens))\n",
    "print(output_str_tokens)\n",
    "\n",
    "# get first paragraph\n",
    "# Find the index of the first occurrence of '\\n\\n' in the output tokens\n",
    "index_of_first_newline = None\n",
    "for i, token in enumerate(output_str_tokens):\n",
    "    if '\\n\\n' in token:\n",
    "        index_of_first_newline = i\n",
    "        break\n",
    "\n",
    "assert index_of_first_newline is not None\n",
    "print(f\"Index of first newline: {index_of_first_newline} ({[output_str_tokens[index_of_first_newline]]})\")\n",
    "\n",
    "par1_tokens = output_tokens[:, :index_of_first_newline+1]\n",
    "par2_tokens = output_tokens[:, index_of_first_newline+1:]\n",
    "par1_str = model.to_string(par1_tokens)[0]\n",
    "par2_str = model.to_string(par2_tokens)[0]\n",
    "prompt_with_par1 = torch.cat((prompt_tokens, par1_tokens), dim=-1)\n",
    "print(par1_str)\n",
    "print(par2_str)"
   ]
  },
  {
   "cell_type": "markdown",
   "id": "39ee90f2-b916-4ec7-b0db-e569b25ca0bd",
   "metadata": {},
   "source": [
    "# %% [markdown]\n",
    "\n",
    " Define the hooks that we'll use to capture the activations\n",
    "\n",
    " We'll use the `store_hook` method to store the activations, and the `modify_hook` method to modify the activations.\n",
    "\n",
    " The `modify_hook` method is given the activation and the hook, and should return the modified activation only if the hook has not been seen before. (this prevents the scenario where you keep getting the same output over and over)\n",
    " We can optionally scale the changed activations by multiplying by a scalar modify_scaling_factor."
   ]
  },
  {
   "cell_type": "code",
   "execution_count": null,
   "id": "d511068a-904f-407e-be06-a4e1b7693568",
   "metadata": {},
   "outputs": [],
   "source": [
    "class ActStore:\n",
    "    def __init__(self, model: HookedTransformer):\n",
    "        self.act_store = {}\n",
    "        self.act_seen = set()\n",
    "\n",
    "        chosen_hooks = ['hook_resid_pre', 'hook_resid_mid']\n",
    "        Ls = range(model.cfg.n_layers) # all layers, you can test with fewer layers\n",
    "        self.chosen_hook_list = \\\n",
    "            [f'blocks.{i}.{h}' for h in chosen_hooks for i in Ls]\n",
    "        self.modify_scaling_factor = 1.0\n",
    "        self.modify_hook_token_idx = -1\n",
    "\n",
    "    def store_hook(self, act, hook):\n",
    "        \"\"\"\n",
    "        Store the activations for the given hook, based on the hook name.\n",
    "        \"\"\"\n",
    "        # [your implementation here]\n",
    "        self.act_store[hook.name] = act.clone()\n",
    "        return act\n",
    "\n",
    "    def modify_hook(self, act, hook):\n",
    "        \"\"\"\n",
    "        Modify the activations for the given hook at modify_hook_token_idx, based on the hook name. Optionally scale the source activations by modify_scaling_factor.\n",
    "        \"\"\"\n",
    "        # should we modify the act, or have we already done so?\n",
    "        if hook.name in self.act_seen:\n",
    "            return act\n",
    "        self.act_seen.add(hook.name)\n",
    "\n",
    "        # modify the act\n",
    "        # [your implementation here]\n",
    "        source_act = self.act_store[hook.name]\n",
    "        idx = self.modify_hook_token_idx\n",
    "        scale = self.modify_scaling_factor\n",
    "        act[:, idx, :] = source_act[:, -1, :] * scale\n",
    "        return act\n",
    "\n",
    "    def modify_hook_list(self):\n",
    "        \"return a list of hooks to modify, and reset the act_seen set to empty\"\n",
    "        self.act_seen = set()\n",
    "        return [(hook, self.modify_hook) for hook in self.chosen_hook_list]\n",
    "\n",
    "    def store_hook_list(self):\n",
    "        \"return a list of hooks to store\"\n",
    "        return [(hook, self.store_hook) for hook in self.chosen_hook_list]\n",
    "\n",
    "act_store = ActStore(model)"
   ]
  },
  {
   "cell_type": "markdown",
   "id": "9b62b5b4-2ac9-4035-b65c-cc76ec6a8de0",
   "metadata": {},
   "source": [
    "# %% [markdown]\n",
    "\n",
    " ## Generate with transferred activations.\n",
    " This technique demonstrates \"activation patching\" or \"activation transfer\" - a method for transferring learned context from one prompt to another by manipulating the model's internal representations.\n",
    "\n",
    " The process works as follows:\n",
    " 1. Run the model on a \"source\" prompt that contains rich context (e.g., a paragraph with specific style/content)\n",
    " 2. Store the intermediate activations (residual stream values) from all the layers for the token of interest on the source prompt\n",
    " 3. Run the model on a \"target\" prompt that lacks context (e.g., just \"\\n\\n\")\n",
    " 4. During the target generation, replace the activations at the same positions with the stored activations from the source\n",
    " 5. This allows the model to generate text as if it had the original context, even though the target prompt is minimal\n",
    "\n",
    " This technique reveals how much contextual information is encoded in the model's intermediate representations\n",
    " and can be used to study how different types of context (style, topic, format) are stored and utilized.\n",
    " Get the full string (example + generated text)"
   ]
  },
  {
   "cell_type": "code",
   "execution_count": null,
   "id": "4630b7d2-c1c3-4646-af0f-788314220559",
   "metadata": {},
   "outputs": [],
   "source": [
    "def transfer_activations(tokens: torch.Tensor, num_copies: int = 10, num_tokens: int = 30):\n",
    "    \"\"\"\n",
    "    Function that:\n",
    "    - runs the model once with the original prompt, with hooks to save the activations\n",
    "    - Creates a new prompt with \"\\n\\n\" repeated num_copies times\n",
    "    - then runs the model again with the new prompt, with hooks modifying the activations at the final token to match the original, ang generates many tokens.\n",
    "\n",
    "    \"\"\"\n",
    "\n",
    "    # [your implementation here]\n",
    "    # Save original activations\n",
    "    with model.hooks(fwd_hooks=act_store.store_hook_list()):\n",
    "        logits = model(tokens, return_type=\"logits\")\n",
    "\n",
    "    # create prompt\n",
    "    new_str = \"\\n\\n\"\n",
    "    new_tokens = model.to_tokens([new_str for _ in range(num_copies)])\n",
    "\n",
    "    # Run with hooks again to modify activations of attention output\n",
    "    with model.hooks(fwd_hooks=act_store.modify_hook_list()):\n",
    "        new_generated_tokens = model.generate(new_tokens, max_new_tokens=num_tokens, do_sample=True, temperature=0.3)\n",
    "\n",
    "    return new_generated_tokens"
   ]
  },
  {
   "cell_type": "markdown",
   "id": "c46b6aad-3d70-4295-b2c0-8f76fa71fefb",
   "metadata": {},
   "source": [
    "# %% [markdown]\n",
    "\n",
    " ## Demonstrating Activation Transfer\n",
    "\n",
    " Now we'll test our activation transfer function on different prompts to see how well it preserves\n",
    " and transfers contextual information. We'll run the function on:\n",
    " 1. The original single paragraph prompt to see how it continues the established style/content\n",
    " 2. The two-paragraph prompt to observe how it handles more complex context transfer\n",
    "\n",
    " Each test will generate multiple continuations to show the consistency and variability of the transfer.\n",
    " try for paragraph 1"
   ]
  },
  {
   "cell_type": "code",
   "execution_count": null,
   "id": "5ce7296f-829f-4218-801a-29bcec14c91a",
   "metadata": {},
   "outputs": [
    {
     "data": {
      "application/vnd.jupyter.widget-view+json": {
       "model_id": "f84b1fea30b84b34953437c53fa1763e",
       "version_major": 2,
       "version_minor": 0
      },
      "text/plain": [
       "  0%|          | 0/30 [00:00<?, ?it/s]"
      ]
     },
     "metadata": {},
     "output_type": "display_data"
    },
    {
     "name": "stdout",
     "output_type": "stream",
     "text": [
      "['<|begin_of_text|>', '\\n\\n', 'These', ' vehicles', ' are', ' designed', ' to', ' withstand', ' the', ' harsh', ' conditions', ' of', ' the', ' desert', ',', ' with', ' reinforced', ' bodies', ' and', ' specialized', ' tires', ' that', ' can', ' handle', ' the', ' extreme', ' temperatures', ' and', ' rocky', ' terrain', '.', ' Their']\n",
      "['<|begin_of_text|>', '\\n\\n', 'G', 'iant', ',', ' ancient', ' trees', ' stretch', ' towards', ' the', ' sky', ',', ' their', ' gn', 'ar', 'led', ' branches', ' twisted', ' and', ' tangled', ' in', ' a', ' dance', ' of', ' nature', \"'s\", ' art', 'istry', '.', ' The', ' rust', 'ling']\n",
      "['<|begin_of_text|>', '\\n\\n', 'G', 'iant', ' metal', ' beasts', ' roam', ' the', ' land', ',', ' their', ' thunder', 'ous', ' ro', 'ars', ' echoing', ' through', ' the', ' valleys', ' and', ' their', ' massive', ' strides', ' shaking', ' the', ' earth', '.', ' These', ' mechanical', ' mon', 'st', 'ros']\n",
      "['<|begin_of_text|>', '\\n\\n', 'These', ' vehicles', ' are', ' equipped', ' with', ' advanced', ' safety', ' features', ',', ' including', ' lane', ' departure', ' warning', ' systems', ' and', ' automatic', ' emergency', ' braking', ',', ' to', ' help', ' prevent', ' accidents', ' and', ' reduce', ' the', ' risk', ' of', ' injury', '.']\n",
      "['<|begin_of_text|>', '\\n\\n', 'These', ' vehicles', ' are', ' designed', ' to', ' withstand', ' the', ' h', 'ars', 'hest', ' conditions', ',', ' with', ' reinforced', ' frames', ' and', ' specialized', ' tires', ' that', ' can', ' handle', ' extreme', ' temperatures', ' and', ' rough', ' terrain', '.', ' Their', ' rugged', ' construction']\n",
      "['<|begin_of_text|>', '\\n\\n', 'G', 'iant', ' metal', ' beasts', ' roam', ' the', ' skies', ',', ' their', ' piercing', ' screams', ' echoing', ' through', ' the', ' air', ' as', ' they', ' tear', ' through', ' the', ' clouds', ' with', ' ease', '.', ' Their', ' massive', ' wings', 'p', 'ans', ' cast']\n",
      "['<|begin_of_text|>', '\\n\\n', 'These', ' vehicles', ' are', ' designed', ' to', ' withstand', ' the', ' h', 'ars', 'hest', ' conditions', ',', ' with', ' reinforced', ' bodies', ' and', ' specialized', ' tires', ' that', ' can', ' handle', ' extreme', ' temperatures', ' and', ' rough', ' terrain', '.', ' They', ' are', ' often']\n",
      "['<|begin_of_text|>', '\\n\\n', 'G', 'iant', ' metal', ' beasts', ' roam', ' the', ' skies', ',', ' their', ' thunder', 'ous', ' ro', 'ars', ' echoing', ' through', ' the', ' land', ' as', ' they', ' clash', ' in', ' aerial', ' battles', ' that', ' shake', ' the', ' earth', '.', ' Pil', 'ots']\n",
      "['<|begin_of_text|>', '\\n\\n', 'G', 'iant', ',', ' ancient', ' trees', ' stretch', ' towards', ' the', ' sky', ',', ' their', ' gn', 'ar', 'led', ' branches', ' twisted', ' and', ' tangled', ' in', ' a', ' dance', ' of', ' nature', \"'s\", ' art', 'istry', '.', ' The', ' air', ' is']\n",
      "['<|begin_of_text|>', '\\n\\n', 'G', 'iant', ' metal', ' beasts', ' roam', ' the', ' city', ',', ' their', ' towering', ' forms', ' a', ' testament', ' to', ' human', ' ing', 'enuity', ' and', ' technological', ' prowess', '.', ' These', ' mechanical', ' mon', 'olith', 's', ',', ' known', ' as', ' \"']\n"
     ]
    },
    {
     "data": {
      "application/vnd.jupyter.widget-view+json": {
       "model_id": "4a19a5b7a7da4b8faaaf090184296d6b",
       "version_major": 2,
       "version_minor": 0
      },
      "text/plain": [
       "  0%|          | 0/30 [00:00<?, ?it/s]"
      ]
     },
     "metadata": {},
     "output_type": "display_data"
    },
    {
     "name": "stdout",
     "output_type": "stream",
     "text": [
      "['<|begin_of_text|>', '\\n\\n', 'A', ' small', ' dose', ' of', ' the', ' medication', ' can', ' be', ' effective', ' in', ' allev', 'iating', ' symptoms', ',', ' but', ' a', ' larger', ' dose', ' can', ' have', ' severe', ' side', ' effects', '.', ' The', ' dosage', ' must', ' be', ' carefully', ' calculated']\n",
      "['<|begin_of_text|>', '\\n\\n', 'A', ' small', ',', ' white', ' pill', ' with', ' a', ' distinctive', ' shape', ' and', ' a', ' bitter', ' taste', ',', ' often', ' accompanied', ' by', ' a', ' strong', ' feeling', ' of', ' nausea', ',', ' d', 'izziness', ',', ' and', ' anxiety', '.', ' Can']\n",
      "['<|begin_of_text|>', '\\n\\n', 'A', ' medication', ' is', ' a', ' substance', ' that', ' is', ' designed', ' to', ' treat', ' or', ' prevent', ' a', ' medical', ' condition', ',', ' and', ' it', ' can', ' be', ' used', ' to', ' alleviate', ' symptoms', ',', ' cure', ' a', ' disease', ',', ' or']\n",
      "['<|begin_of_text|>', '\\n\\n', 'A', ' small', ',', ' white', ' pill', ' with', ' a', ' distinctive', ' shape', ' is', ' often', ' taken', ' to', ' alleviate', ' symptoms', ' of', ' anxiety', ' and', ' insomnia', '.', ' It', ' is', ' commonly', ' prescribed', ' by', ' doctors', ' and', ' is', ' available', ' over']\n",
      "['<|begin_of_text|>', '\\n\\n', 'A', ' medication', ' can', ' be', ' administered', ' to', ' a', ' patient', ' to', ' treat', ' a', ' medical', ' condition', ',', ' and', ' the', ' patient', ' is', ' monitored', ' for', ' any', ' adverse', ' reactions', ' to', ' the', ' treatment', '.', ' The', ' medication', ' can']\n",
      "['<|begin_of_text|>', '\\n\\n', 'A', ' small', ',', ' white', ' pill', ' with', ' the', ' number', ' ', '3', ' on', ' it', ' is', ' taken', ' daily', ' to', ' help', ' manage', ' a', ' condition', '.', ' The', ' pill', ' is', ' effective', ' in', ' reducing', ' symptoms', ',', ' but']\n",
      "['<|begin_of_text|>', '\\n\\n', 'A', ' small', ',', ' white', ' pill', ' with', ' a', ' distinctive', ' shape', ' and', ' a', ' bitter', ' taste', ',', ' often', ' taken', ' to', ' alleviate', ' symptoms', ' of', ' anxiety', ',', ' insomnia', ',', ' and', ' other', ' conditions', '.', ' It', ' is']\n",
      "['<|begin_of_text|>', '\\n\\n', 'A', ' small', ',', ' white', ' pill', ' is', ' often', ' taken', ' to', ' alleviate', ' symptoms', ',', ' but', ' the', ' underlying', ' cause', ' remains', ' unresolved', '.', ' The', ' pill', ' may', ' provide', ' temporary', ' relief', ',', ' but', ' it', ' does', ' not']\n",
      "['<|begin_of_text|>', '\\n\\n', 'A', ' small', ',', ' white', ' pill', ' with', ' a', ' distinctive', ' shape', ' is', ' often', ' taken', ' to', ' alleviate', ' symptoms', ' of', ' anxiety', ' and', ' insomnia', '.', ' It', ' is', ' commonly', ' prescribed', ' to', ' individuals', ' who', ' experience', ' excessive', ' worry']\n",
      "['<|begin_of_text|>', '\\n\\n', 'A', ' small', ',', ' white', ' pill', ' is', ' swallowed', ',', ' and', ' its', ' effects', ' are', ' immediate', '.', ' The', ' body', \"'s\", ' systems', ' begin', ' to', ' slow', ',', ' and', ' the', ' mind', ' grows', ' calm', '.', ' The', ' pill']\n"
     ]
    }
   ],
   "source": [
    "par1_continued_tokens = transfer_activations(prompt_tokens)\n",
    "for tok in par1_continued_tokens:\n",
    "    print(model.to_str_tokens(tok))\n",
    "\n",
    "# try for paragraph 2\n",
    "par2_continued_tokens = transfer_activations(prompt_with_par1)\n",
    "for tok in par2_continued_tokens:\n",
    "    print(model.to_str_tokens(tok))"
   ]
  },
  {
   "cell_type": "markdown",
   "id": "a3d84c9d-f743-4f4d-87f6-2de62210852f",
   "metadata": {},
   "source": [
    "# %% [markdown]\n",
    "\n",
    " What do you see?\n",
    " You should see that the transfered activations give *some* indicaiton of what the model was planning to write, but that they are far from perfect. It seems like the model can guess the next few words, and can sometimes bootstrap from there, but often fails to.\n",
    " Can we evaluate this more automatically?"
   ]
  },
  {
   "cell_type": "markdown",
   "id": "1e6d6d00-edb1-4c90-bc30-e4b28bfc0a9d",
   "metadata": {},
   "source": [
    "# %% [markdown]\n",
    "\n",
    " # Measuring the quality of the continuations.\n",
    " We use semantic text embeddings to measure how well our continuation ParaScope technique works.\n",
    " Semantic embeddings convert text into high-dimensional vectors that capture meaning - texts with\n",
    " similar meanings will have vectors that point in similar directions (high cosine similarity).\n",
    "\n",
    " Our evaluation process:\n",
    " 1. Encode both the original paragraph and the generated continuation into embedding vectors\n",
    " 2. Calculate cosine similarity between these vectors (ranges from -1 to 1, where 1 = identical meaning)\n",
    " 3. Higher similarity scores indicate that the continuation successfully captured the semantic content\n",
    "    that the model was \"planning\" to write in the original context\n",
    "\n",
    " This helps us quantify whether activation transfer preserves meaningful contextual information\n",
    " or just produces random text that happens to follow the same format."
   ]
  },
  {
   "cell_type": "code",
   "execution_count": null,
   "id": "644f9450-f6da-4e96-ab29-e46366cac00d",
   "metadata": {},
   "outputs": [
    {
     "data": {
      "image/png": "[encoded data removed]",
      "text/plain": [
       "<Figure size 800x600 with 1 Axes>"
      ]
     },
     "metadata": {},
     "output_type": "display_data"
    },
    {
     "name": "stdout",
     "output_type": "stream",
     "text": [
      "Paragraph 1 mean similarity: 0.454\n",
      "Paragraph 2 mean similarity: 0.471\n"
     ]
    }
   ],
   "source": [
    "# %%\n",
    "\n",
    "import numpy as np\n",
    "from sentence_transformers import SentenceTransformer\n",
    "import matplotlib.pyplot as plt\n",
    "\n",
    "# Load evaluation model\n",
    "sentence_model = SentenceTransformer('all-mpnet-base-v2')\n",
    "\n",
    "def calculate_similarities(original_text, continued_tokens):\n",
    "    \"\"\"Calculate cosine similarities between original and continued text.\"\"\"\n",
    "    similarities = []\n",
    "\n",
    "    for cont_tokens in continued_tokens:\n",
    "        cont_text = ''.join(model.to_str_tokens(cont_tokens))\n",
    "\n",
    "        # Calculate cosine similarity\n",
    "        if original_text and cont_text:\n",
    "            # [your implementation here]\n",
    "            orig_embedding = sentence_model.encode(original_text)\n",
    "            cont_embedding = sentence_model.encode(cont_text)\n",
    "\n",
    "            cosine_sim = np.dot(orig_embedding, cont_embedding) / (\n",
    "                np.linalg.norm(orig_embedding) * np.linalg.norm(cont_embedding)\n",
    "            )\n",
    "            similarities.append(float(cosine_sim))\n",
    "\n",
    "    return similarities\n",
    "\n",
    "# Calculate similarities for both paragraphs\n",
    "par1_similarities = calculate_similarities(par1_str, par1_continued_tokens)\n",
    "par2_similarities = calculate_similarities(par2_str, par2_continued_tokens)\n",
    "\n",
    "# Create comparison graph\n",
    "fig, ax = plt.subplots(figsize=(8, 6))\n",
    "box_data = [par1_similarities, par2_similarities]\n",
    "bp = ax.boxplot(box_data)\n",
    "ax.set_xticklabels(['Paragraph 1', 'Paragraph 2'])\n",
    "ax.set_ylabel('Cosine Similarity')\n",
    "ax.set_title('Semantic Similarity: Original vs Continued Text')\n",
    "ax.set_ylim(0, 1)\n",
    "plt.show()\n",
    "\n",
    "print(f\"Paragraph 1 mean similarity: {np.mean(par1_similarities):.3f}\")\n",
    "print(f\"Paragraph 2 mean similarity: {np.mean(par2_similarities):.3f}\")"
   ]
  },
  {
   "cell_type": "markdown",
   "id": "e9163c70-97ec-472f-a39f-0a5501e370f6",
   "metadata": {},
   "source": [
    "# %% [markdown]\n",
    "\n",
    " ### Bonus: Test which layers are most important for the continuation.\n",
    " We use all the layers, but maybe some are more important than others? Try to change which layers are selected or sweep through them.\n",
    "\n",
    " ### Bonus: (ie: exercises not yet implemented)\n",
    " Try to replicate other parts of the post:\n",
    " [https://link.nicky.pro/parascopes](https://link.nicky.pro/parascopes)\n"
   ]
  }
 ],
 "metadata": {
  "language_info": {
   "codemirror_mode": {
    "name": "ipython",
    "version": 3
   },
   "file_extension": ".py",
   "mimetype": "text/x-python",
   "name": "python",
   "nbconvert_exporter": "python",
   "pygments_lexer": "ipython3",
   "version": 3
  }
 },
 "nbformat": 4,
 "nbformat_minor": 2
}
